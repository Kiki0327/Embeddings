{
 "cells": [
  {
   "cell_type": "markdown",
   "metadata": {},
   "source": [
    "# Realizar pruebas con modelos de embeddings de sentence-transformer\n",
    "\n",
    "La idea es realizar pruebas en donde se guarde info en el espacio vectorial y realizar busquedas de similitud con un input"
   ]
  },
  {
   "cell_type": "markdown",
   "metadata": {},
   "source": [
    "-------------------------------------"
   ]
  },
  {
   "cell_type": "code",
   "execution_count": 21,
   "metadata": {},
   "outputs": [],
   "source": [
    "import warnings\n",
    "warnings.filterwarnings('ignore')\n",
    "from langchain_community.document_loaders import PyPDFLoader\n",
    "import os\n",
    "import re\n",
    "from langchain_text_splitters import RecursiveCharacterTextSplitter\n",
    "from langchain_core.documents.base import Document\n",
    "import pandas as pd\n",
    "pd.options.display.max_columns = None\n",
    "pd.options.display.max_rows = None\n",
    "from sentence_transformers import SentenceTransformer, util"
   ]
  },
  {
   "cell_type": "markdown",
   "metadata": {},
   "source": [
    "## Load file"
   ]
  },
  {
   "cell_type": "code",
   "execution_count": 2,
   "metadata": {},
   "outputs": [],
   "source": [
    "def load_files(path_files=str, file=None, debug=None):\n",
    "    \"\"\"\n",
    "    Cargador de documentos en formato PDF. Ademas, se realiza una limpieza para eliminar saltos de linea y múltiples espacios en el texto,\n",
    "    esto se hace pensando en que los fragmentos y embeddings sean mas coherentes y limpios.\n",
    "\n",
    "    Args:\n",
    "        path_files: Ruta en donde se encuentran los archivos.\n",
    "        file: Si se desea cargar un unico archivo de la ruta\n",
    "        debug: Booleano, si se quiere imprimir información del objeto\n",
    "\n",
    "    Returns:\n",
    "        Una lista de objetos Document.\n",
    "    \"\"\"\n",
    "\n",
    "    docs = os.listdir(path_files)\n",
    "    docs = [path_files + x for x in docs]\n",
    "    if file != None:\n",
    "        docs = [x for x in docs if file in x]\n",
    "\n",
    "    documents = []\n",
    "    for i in docs:\n",
    "        loader = PyPDFLoader(i)\n",
    "        data = loader.load()\n",
    "        documents.extend(data)\n",
    "\n",
    "    clean_documents = []\n",
    "    for j in documents:\n",
    "        clean = re.sub(r'\\s+', ' ', j.page_content)\n",
    "        clean = Document(page_content=clean, metadata=j.metadata)\n",
    "        clean_documents.append(clean)\n",
    "\n",
    "    if debug == True:\n",
    "        print(f'El objeto retornado por la función es de tipo: {type(clean_documents)}. Y cada subobjeto es de tipo: {type(clean_documents[0])}')\n",
    "        print(f'En total se cargaron {len(clean_documents)} paginas')\n",
    "        \n",
    "    return clean_documents"
   ]
  },
  {
   "cell_type": "code",
   "execution_count": 3,
   "metadata": {},
   "outputs": [
    {
     "name": "stdout",
     "output_type": "stream",
     "text": [
      "El objeto retornado por la función es de tipo: <class 'list'>. Y cada subobjeto es de tipo: <class 'langchain_core.documents.base.Document'>\n",
      "En total se cargaron 15 paginas\n"
     ]
    }
   ],
   "source": [
    "path = \"G:/Mi unidad/Universidad/Pregrado/1,2,3,4/Estadistica/\"\n",
    "pages = load_files(path_files=path, file='HistoriaEstadistica', debug=True)"
   ]
  },
  {
   "cell_type": "code",
   "execution_count": 4,
   "metadata": {},
   "outputs": [
    {
     "data": {
      "text/plain": [
       "[Document(page_content='DESARROLLO HISTÓRICO DE LA ESTADÍSTICA Extractado por Jorge Galbiati Riesco Las fuentes de la Estadística la constituyen los censos y recuentos, los juegos de azar, la inferencia inductiva basada en datos empíricos, y el tratamiento de los errores en las mediciones. Se sabe que Cesar Augusto decretó que todo el imperio fuera sometido al pago de impuestos, para lo cual previamente debería conducirse un censo de las personas. Mil años después, Guillermo el Conquistador ordenó que se hiciera un registro de todos los bienes que hubieran en Inglaterra, para fines tributarios y militares, el llamado \"Domesday Book\". Una aplicación de la probab ilidad empírica a los seguros de buques se encuentra en Flandes, en el siglo XIV. La teoría a de la probabilidad es una disciplina matemática que fundamenta la Estadística como una lógica y una metodologí a para la medición y el estudio de la incertidumbre, en la planeación e interpretación de la observación y la experimentación. Los inicios de la probabilidad, como teoría matemática, puede rastrearse en la correspondencia entre Fermat y Pascal, en la década de 1650. Pierre de Fermat, matemático francés, nació en 1601; Blaise Pascal, matemático, físico y filósofo, también francés, nació en Cler mont-Ferrand en 1623. También hay antecedentes de los orígenes de la teoría de la probabilidad en un corto artículo escrito por Christian Huygens en 1657. Fue éste un físico, geómetra y astrónomo holandés, nacido en La Haya en 1629. Previamente, Girolamo Cardano (1501- 1576) y Galileo Galilei (1564-1642) habían he cho cálculos de prob abilidades numéricas, de diversas combinaciones de dados. Estos trabajos tempranos de Fermat, Pascal y Huygens no abordan problemas de estadística inferencial, ni van más allá de los juegos de azar, que eran sus intereses inmediatos. ', metadata={'source': 'G:/Mi unidad/Universidad/Pregrado/1,2,3,4/Estadistica/HistoriaEstadistica.pdf', 'page': 0}),\n",
       " Document(page_content='Un comerciante inglés, John Graunt, publicó en 1662 un artículo titulado \"Natural and Political Observations upon the Bills of Mortality\", en el que presenta cálculos demográficos que evidencian el reciente de scubrimiento de la re gularidad de ciertas proporciones. Pasarían décadas antes que se tuviera conciencia de la existencia de variabilidad de todos los fenómenos. Por sus trabajos en demografía, que incorporan nociones de regularidad en el comportamiento de características de naturaleza aleatoria, John Graunt es considerado por algunos, como el iniciador de la Estadística. Fue socio fundador de la Royal Society. Jacob Bernoulli, (o James, o Jacques Bernoulli), un matemático suizo nacido en 1654, es considerado el iniciador de la teoría de la probabilidad, que hasta entonces sólo se había ocupado de fenómenos experimentales con resultados equiprobables, motivados, aparte de los juegos de azar, por problemas de las ciencias sociales, intereses Financieros, seguros, meteorología y medicina. En su obra \"Ars Conjectandi\", introduce lo que hoy se conoce como la primera ley de los grandes números . Es éste un principio fundamental, que básicamente establece que, bajo ciertas condiciones, un promedio muestral se aproxima al promedio de la población de donde se obtuvo la muestra, si el tamaño de ésta es grande. Entre los siglos XVIII y XIX, la Estadística experimentó lo que puede ser descrito como un desarrollo horizontal y vertical si multáneo. Horizontal, en el sentido que se propagó a través de diversas disciplinas, desde la astronomía y la geodesia, la psicología, la biología, hasta las ciencias sociales, sufriend o diversas transformaciones en el proceso. Vertical, en el sentido de profundizar en el conocimiento del rol de la probabilidad, siendo desplazada la analogía de los juegos de azar, por modelos probabilísticos apropiados para efectuar medidas bajo incertidumbre. De este modo se llega a los inicios de la inferencia estadística , cuyo dominio de aplicación se extiende gradualmente, desde fines de este período. Un matemático francés nacido en 1667, que vivía en Londres, refugiado de la persecución religiosa, Abraham De Moivre, publicó tres obras de contenidos sobre el tema de la probabilidad, entre 1718 y 1730. Contri buyó efectuando estudios sobre la ley de probabilidad binomial, y formuló una aproximación para muestras grandes, que es considerada por estadísticos de este siglo, como Karl Pearson, como la primera formulación de la ley de probabilidad normal. Pearson encontró la publicación de De Moivre en que presentaba la ley normal. Pero el autor no había descubierto su aplicación a la ', metadata={'source': 'G:/Mi unidad/Universidad/Pregrado/1,2,3,4/Estadistica/HistoriaEstadistica.pdf', 'page': 1}),\n",
       " Document(page_content='descripción del error en observaciones experime ntales. Fueron Laplace y Gauss quienes lo hicieron, independientemente, un siglo después. En 1761 muere un inglés, Thomas Bayes, ordenado ministro, pero con interés en la matemática, sin haber publicado un sólo trabajo matemático durante su vida. Su obra \"Ensayo sobre la Resolución de un Problema en la Doctrina del Azar\", publicada póstumamente en 1764, fue ignorada por sus contemporáneos, y parece haber tenido poca influencia sobre el desarrollo temprano de la Estadística. Irónicamente, sus contenidos, estudios de la inversión de la probabilidad, sirvieron, dos siglos después, para grabar su nombre en toda una corriente estadística, la moderna inferencia bayesiana. La inferencia bayesiana permite asignar probabilidades a fenómenos que no son de naturaleza aleatoria, pero cuyos resultados no son conocidos, lo qu e no es posible bajo el punto de vista opuesto, el de los frecuentistas, que sólo permiten asignar probabilidades cuando es posible que éstas puedan ser apoyadas por la experimentación. El Teorema de Bayes logra afinar la asignación de estas probabilidades, a medida que se adquiere conocimiento de la población bajo estudio, a través de la obtención de observaciones. En 1763 un inglés, Arthur Young, here d ó u n f u n d o , y e n é l c o m e n z ó a experimentar para descubrir el método agrícola más rentable. Desarrolló un gran número de experimentos, publicando sus resultados en UN libro llamado \"Un Curso de Agricultura Experimental\", en 1771. Las ideas que pres enta sobre el Diseño de Experimentos, una importante disciplina de la Estadística actual, cuyas aplicaciones al campo industrial se encuentran hoy en pleno desarrollo , son sorprendentemente modernas. El físico, matemático, y astrónomo francés Pierre-Simon Laplace, hizo contribuciones importantes a la aplicación de la probabilidad a la inferencia estadística, contenidas fundamentalmente en dos obras \"Memoria sobre la Probabilidad de las Causas de Eventos\", de 1774, y \"Memoria sobre Probabilidades\", de 1781. Se preocupó de la inversión de la probabilidad, como Bayes, pero sin conocer los resultados obtenidos por este último, llegando a formular un caso particular del teorema de Bayes, con la adopción tácita de probabilidades a priori iguales, con posterioridad a la publicación póstuma de la obra de Bayes. Contribuyó en muchos temas estadísticos, entre ellos en la obtención de una \"curva de errores\", llegando a la formulación de la ley de probabilidad normal. ', metadata={'source': 'G:/Mi unidad/Universidad/Pregrado/1,2,3,4/Estadistica/HistoriaEstadistica.pdf', 'page': 2}),\n",
       " Document(page_content='En 1805, el matemático francés Adrien Marie Legendre dio a conocer un sistema para determinar las órbitas de los cometas, que involucra una descripción del método de los mínimos cuadrados, tan utilizado en la Estadística de hoy. Es un método de estimación de parámetros, que básicamente consiste en asignarles los valores que minimizan la suma de los cuadrados de la s diferencias entre las observaciones y los valores teóricos entregados por el modelo propuesto. El método de los mínimos cuadrados fue el tema dominante de los estadísticos del siglo XIX. Karl Friederich Gauss, un matemático nacido en Alemania, en 1777 , también interesado en el estudio de las órbitas de los planetas, contribuyó al método de los mínimos cuadrados, desembocando, independientemente de Laplace, en la ley de probabilidad normal, o curva de Gauss, como descripción probabilística del error. Pero Gauss encontró su asociación con el método de mínimos cuadrados. Hacia 1830, Adolphe Quetelet, astrónomo, meteorólogo, estadístico y sociólogo, hizo los primeros intentos de aplicar la probabilidad a la medición de la incertidumbre en las ciencias sociales. Su avance hacia el análisis estadístico de datos so ciales fue el hecho de introducir el concepto del hombre promedio , motivado por sus investigaciones de datos demográficos, observando múltiples relaciones entre características contenidas en datos de poblaciones humanas. Su contribución más perdurable fue el hecho de ajustar distribuciones de probabilidad a datos empíricos. Adolphe Quetelet era un belga, nacido en Gantes, en 1796, interesado en las bellas artes. Se dedico a la pintura, escribió poesías, e incluso escribió una ópera. Pero después desarrolló una ¡inclinación a las mate máticas, que lo llevó a interesarse por el estudio de la teoría de la probabilidad y su aplicación a los fenómenos sociales. Es así como contribuyó a impulsar la realización del primer censo nacional en Bélgica y Holanda, e hizo esfuerzos por que se uniformi zaran los métodos y la tecnología utilizada en la recolección y presentación de datos, en Europa. Tuvo un liderazgo importante en la creación de organizaciones ligadas a la Estadíst ica, como la Statistical Society of London, ahora Royal Statistical Society. A Quetelet se le ha llamado el \"padre de la Estadística moderna\", por una publicación suya, de 1835, en que observa la extraordinaria regularidad con que se reproducían ciertos fenómenos sociales, como crímenes o suicidios, y argumenta que esas regularidades sólo pueden ser encontrada s mediante el uso de técnicas estadísticas, las que incluso pueden llevar a conocer sus ca usas. Quetelet pensaba que casi todos los ', metadata={'source': 'G:/Mi unidad/Universidad/Pregrado/1,2,3,4/Estadistica/HistoriaEstadistica.pdf', 'page': 3}),\n",
       " Document(page_content='fenómenos pueden ser representados probab ilísticamente mediante la ley normal, siempre que el número de casos estudiados fuese suficientemente grande. Simeón Denis Poisson, físico matemático nacido en Francia, en 1781, publicó un gran tratado de probabilidad en 1837. Contiene el germen de dos elementos asociados al nombre de Poisson: La ley de probabilidad conocida como distribución de Poisson, y la generalización de la ley de los grandes números de Bernoulli. Numerosos investigadores, provenientes de las más diversas disciplinas, hicieron contribuciones a la Estadística, durante la segunda mitad del siglo XIX, construyendo de a poco una disciplina que se iría perfilando cada vez más como una ciencia independiente. Wilhelm Lexis, economista alemán, contribu yó a la estadística social, estudiando datos presentados como series a través del tiempo, hacia 1880. Se inicia un tema importante dentro de la Estadíst ica, el de las series de tiempo , muy utilizadas hoy en día, en particular, en sus apli caciones a la Economía. J o h n A r b u t h n o t , m é d i c o d e l a r e i n a A n a de Inglaterra, es más conocido como estadístico, por sus estudios sobre las propor ciones de los sexos en los nacimientos. Henry Buckle, inglés, precursor de la mo derna ciencia histórica, utilizó métodos estadísticos para ayudar a hacer de la historia una ciencia. Gustav Fechner, alemán con estudios Incompletos en medicina, incursionó en las técnicas de la experimentación, para describir la relación entre estímulos y sensación, derivando la Estadística hacia el campo de la psicología experimental. Fechner introdujo la medición en la psicología. Aparentemente creó el término psicofísica para describir la psicología experimental, que practicó como disciplina formal, a mediados del siglo XIX. Un psicólogo, Hermann Ebbinghaus, siguió la línea de Fechner, compartiendo dos ideas cruciales: Que el estudio cuantitativo era la única manera de expresar con precisión las vagas nociones que la psicología manejaba antes, y el convencimiento que el apoyo de un cuidadoso diseño experimental es fundamental para la experimentación. Ebbinghaus aplicó estas ideas al estudio de la memoria. ', metadata={'source': 'G:/Mi unidad/Universidad/Pregrado/1,2,3,4/Estadistica/HistoriaEstadistica.pdf', 'page': 4}),\n",
       " Document(page_content='A partir de 1880, tres hombres, Francis Galton, Francis Edgeworth y Karl Pearson, crean una revolución en la Estadística, pr oporcionando una metodología empírica que sustituye a la experimentación controlada, en disciplinas donde la experimentación no es posible de aplicar. Esta metodología empírica ya había sido utilizada en la psicología. Lo hicieron separadamente Galtori en la Antropología, Edgeworth en la Economía y Pearson en la filosofía de la ciencia. Francis Galton, nacido en 1822, investigó el carácter hereditario de la genialidad, utilizando curvas normales inversas, que llamó \"ojivas\", término que tomó de la arquitectura, y que aun se utiliza. Fue pionero en el tema de la regresión lineal simple , o reversión , como él la llamó, técnica para obtene r una expresión que relaciona en forma lineal, dos características. También se preocupó de la estimación de las componentes de varianza , o partes de la variabilidad de un fenómeno observado, atribuibles a causas identificables. El concepto estadístico por el que es más conocido es el de la correlación , aún cuando su interpretación limitada a un coeficiente que mide el grado de asociación entre el comportamiento de dos variables, tan utilizado en el presente, jugó un papel poco importante en el trabajo de Galton. Francis Galton también utilizó la ley de probabilidad normal, en su versión bivariada , para describir el comportamiento probabilístico de los errores de dos características que varían en forma conjunta . Esta ya había sido conocida por otros investigadores, desde principios del siglo XVIII: Por el estadounidense Robert Adrain en 1808, por Laplace en 1811, y por Gauss en 1823, en tre otros. Pero ellos no conocieron el coeficiente de correlación , presente en la normal bivariada, y que cuantifica el grado de asociación entre las dos características. La ley normal bivariada daría origen a la ley normal multivariada. Esta es fundamental en la rama de la estadística denominada análisis multivariante, que se preocupa del estudio de observaciones con múltiples variables. Francis Ysidro Edgeworth se educó en literatura clásica, luego estudió derecho comercial. Pero después se interesó en aplicar los métodos estadísticos previamente aplicados en astronomía y geodesia, a la economía y sociología. Contribuyó al desarrollo de la regresión y la correlación . Edgeworth también trabajó en otra área fundamental de la Estadística, que estudia las aproximaciones que se obtienen cuando los conjuntos de datos crecen ilimitadamente. Apor ta la aproximación de Edgcworlh, cuya aplicación se ha intensificado en la actualidad. Desarrolló una versión del teorema del límite central , una ', metadata={'source': 'G:/Mi unidad/Universidad/Pregrado/1,2,3,4/Estadistica/HistoriaEstadistica.pdf', 'page': 5}),\n",
       " Document(page_content='herramienta muy utilizada, que establece, en líneas generales, que bajo ciertas condiciones, un promedio muestral sigue aproximadamente la ley probabilística normal, sin importar que comportamiento probabilístico tiene la población de donde provienen las observaciones, si el número de observaciones es grande. Karl Pearson mostró interés en distribuciones probabilísticas asimétricas, en contraposición con las distribuciones normales, simétricas. Llegó de esta manera a introducir una familia de distribuciones probabilísticas, hoy conocida como Gama, que ya había sido descubierta independientemente por el estadounidense Erastus De Forest. Pearson mostró interés en los más diversos temas, además de la estadística, como la filosofía, la religión, la historia, entre otros. Su \"Gramática de las Ciencias\", de 1892, ilustra su convicción de que la estadística an alítica yace en los fundamentos de todo el conocimiento. Pearson, en su trabajo, dio más importancia a la cuantificación de la correlación entre dos variables, en la forma de un coeficiente, que la que le había dado Galton. El y otros investigadores desarrollaron varios coefic ientes de correlación, para el estudio de diferentes problemas en genética, biol ogía, y otras disciplinas. El más común y conocido de ellos, hoy en día, lleva su nombre. A Karl Pearson se debe, también, el estadístico ji- cuadrado, introducido en 1900. Este estadístico, es utilizado como medida de comparación entre dos tablas de frecuencia, y una de sus aplicaciones es el probar el ajuste de una ley probabilística a un conjunto de datos empíricos. George Udny Yule, ingliés con estudios de ingeniería y física, fue un colaborador de Pearson, que hizo algunos aportes a la obra de este último. Trabajó en correlación, y también en curvas asimétricas, como su predecesor. Colaboró en la publicación de Pearson, proporcionando un ejemplo de la aplicación de ajuste de una curva asimétrica a datos sobre distribución de pobreza en Ingl aterra y Gales. Pero luego se movió en direcciones independientes. Relacionó la regresión con el método de los mínimos cuadrados, proporcionando un gran conjunto de algoritmos que habían desarrollado los astrónomos, para la solución de las ecuaciones normales, asociadas al cálculo de la regresión. Los trabajos publicados por Yule cubren hasta la primera década de este siglo. La idea de representatividad , en Estadística, es decir, de seleccionar aleatoriamente algunas unidades para llevar a cabo un estudio sobre una población, es ', metadata={'source': 'G:/Mi unidad/Universidad/Pregrado/1,2,3,4/Estadistica/HistoriaEstadistica.pdf', 'page': 6}),\n",
       " Document(page_content='a n t i g u a . E n e s t a i d e a s e f u n d a m e n t a l a t é c n i c a d e m u e s t r e o . Sin embargo, durante mucho tiempo no fue aceptado , por la generalidad de los estadísticos. En 1895, fue presentada formalmente en una reunión de! Instituto Internacional de Estadística, realizada en Berna, por el director de la Oficina Central de Estadística de Noruega, A. N. K a i e r , b a j o e l n o m b r e d e m é t o d o r e p r e s e n t a t i v o , en contraposición a la investigación exhaustiva. Despertó gran interés, pero finalmente fue rechazado. No hubo más informes a favor del método de muestreo sino hasta la reunión del Instituto Internacional de Estadística celebrada en Roma, en 1926. Tuvi eron influencia favorable los trabajos sobre representatividad en estudios sociales y econó micos, debidos a A. L. Bowley. A él se debe una aplicación de la teoría de infere ncia a las encuestas por muestreo, hecha en 1906. Aplicó el teorema del límite central, en la versión de Edgeworth, basada en el teorema de Bayes, para evaluar la precisión de las estimaciones obtenidas con grandes muestras aleatorias de poblaciones grandes, finitas. Tippet publica la primera tabla de números aleatorios, en 1927, para la obtención de muestras al azar. En 1934, el polaco Jerzy Neyman publicó en la Royal Statistical Society, de Londres, lo que puede ser considerado el prim er trabajo científico sobre el muestreo de poblaciones finitas. Estableció, sin lugar a dudas, que la selección aleatoria es la base de una teoría científica que perm ite predecir la validez de las estimaciones muéstrales. También dejó establecida toda una filosofía sobre la eficiencia de la estrategia muestral. Neyman y Egon Pearson, hijo de Karl Pearson, presentaron en 1936 una teoría sobre la forma de probar hipótesis estadísticas , en base a datos. Esta presentación promovió mucho ¡interés, estimuló una considerable cantidad de investigación, y muchos de los resultados hasta hoy aun se usan. Ellos resolvieron dificultades fundamentales para la comprensión de las pruebas de hipótesis, introduciendo las nociones de hipótesis alternativa , y los dos tipos de error, el de rechazar una hipótesis que es verdadera, y el de no rechazar una hipótesis que es falsa. Surge un resultado fundamental, el Lema de Neyman-Pearson, y se crea una larga controversia con R. A. Fisher, que visualizaba la prueba de hipótesis como un procedimiento mediante el cual el investigador podía formarse una opinión sobre alguna característica de la población, o parámetro. Neyman y Pearson vieron la prueba de hipótesis como un medio para que el investigador tomara una decisión sobre un parámetro de la población. ', metadata={'source': 'G:/Mi unidad/Universidad/Pregrado/1,2,3,4/Estadistica/HistoriaEstadistica.pdf', 'page': 7}),\n",
       " Document(page_content='Neyman introdujo, en 1934, la teoría de los intervalos de confianza. Es una forma de estimar un parámetro, contrapuesta a la estimación puntual, que determina un intervalo que contiene el parámetro, y un co eficiente de confianza, que representa la probabilidad que el intervalo efectivamente contenga al parámetro. Los intervalos de confianza y las pruebas de hipótesis son dos elementos de la inferencia estadística. En las décadas de los años 30 y 40 se centra el desarrollo de la técnica del muestreo estratificado , que asume que existen segmentos distintos, o estratos, en la población, que pueden ser identificados previamente, los cuales se muestrean separadamente. Jerzy Neyman fue un arduo defensor del método de muestreo estratificado, y su trabajo en este tema, abrió nuevas áreas de investigación. También en la década del 40 se desarrolla el método de muestreo por conglomerados , que consiste en maestrear grupos, en lugar de unidades, para luego censar estos grupos. En este periodo se establecen las condiciones bajo las cuales estos métodos, el muestreo estratificado y el muestreo por conglomerados, resultan más eficientes. En 1908, el ingles William Gosset, quie n fuera alumno de Pearson, publica un artículo \"El Error Probable de una Media\", bajo el seudónimo de Student . Este artículo constituye un paso importante en el sentido de cuantificar los resultados de la e x p e r i m e n t a c i ó n . N o e s t á c l a r o c u a n d o G o s s e t s e i n t e r e s ó p o r l a E s t a d í s t i c a , p e r o trabajaba en la cervecería Guinness, en cuyo ámbito se encontraba con problemas relacionados con muestras pequeñas, para la s cuales la teoría de muestras grandes, existente entonces, proporcionaba sólo una mala aproximación. Esto lo llevó a desarrollar la ley probabilística que hoy es conocida como t de Student, utilizada en lugar de la ley normal de Gauss, en problemas con muestras pequeñas. Y también lo llevó a desarrollar la prueba de hipótesis llamada hoy test de Student , para inferencias sobre medias poblacionales, basadas en muestras pequeñas. Sin embargo, pasaron largos años antes que el test de Student fuera debidamente apreciado. Como señaló McMullen , en el prólogo de la colección de artículos de Gosset, publicados en 1942, \"Por un largo tiempo después de su descubrimiento y publicación, el uso de este test apenas salió de la cervecería Guinness\". El gran estadístico inglés Sir RonaId Aylmer Fisher ingresó a la Estación ', metadata={'source': 'G:/Mi unidad/Universidad/Pregrado/1,2,3,4/Estadistica/HistoriaEstadistica.pdf', 'page': 8}),\n",
       " Document(page_content='Experimental de Rothamsted en 1919. Desde allí entregó una importante cantidad de conocimiento relacionado con el diseño de experimentos, contribuyendo a desarrollar técnicas que son consideradas claves para en la experimentación comparativa: El diseño experimental en bloques, que permite el control local del efecto introducido por factores no deseados, sobre las variables observadas. La aleatorización, que constituye una protección contra la introducción de factores impredecibles, en el experimento. El diseño factorial , para el estudio del efecto de varios fact ores, simultáneamente. Y el análisis de varianza, técnica de análisis de los resultados de la experimentación que permite separar las fuentes de variación, y así determinar el grado de influencia de cada factor. Estas técnicas, a excepción de la aleatorización , eran conocidas antes de Fisher, pero fue el quien logró una clara comprensión de ellas, e inició su uso en forma masiva. dio a conocer sus resultados en sucesivas publicaciones a partir de 1925, y hasta después de 1940, sobre métodos de experimentación agrícola. Posteriormente estas técnicas fueron aplicadas a otras áreas no agrícolas, como la más reciente, la industrial. Esta se caracteriza por la utilización de experimentos factoriales fraccionados, que utiliza en forma óptima la información proveniente de un experimento desarrollado en forma parcial, debido al gran número de factores involucrados, y de la metodología del análisis de superficies de respuesta, un procedimiento fino para el estudio de los resultados experimentales. Fisher desarrolló una teoría de estimación, aun en uso hoy día, basada en resumir los datos de un modo eficiente, que preserve la mayor cantidad de información contenida en ellos. Si se conoce la forma funcional de la ley de probabilidad que gobierna la población de donde provienen los datos, Fisher observó que la Función de Verosimilitud, la probabilidad de obtener la muestra dada, es un resumen de la información contenida en los datos. El método de maximizar la vero similitud, provee entonces, el estimador más eficiente, que no puede ser mejorado, según su teoría. Hacia fines de la década del 1950 existían pocos libros escritos sobre el tema del diseño de experimentos. Entre ellos, un aporte importante aparece en el de Oscar Kempthorne, y es el uso de matrices . Esta herramienta matemática, tan utilizada en la Estadística de hoy, sólo comenzó a utilizarse en Estadística a partir de esa década. Permitió un tratamiento más efectivo del análisis de varianza y del diseño de experimentos, en el contexto de un modelo lineal general. En esa misma década, con el acceso a los primeros computadores, que pe rmitieron invertir matrices relativamente ', metadata={'source': 'G:/Mi unidad/Universidad/Pregrado/1,2,3,4/Estadistica/HistoriaEstadistica.pdf', 'page': 9})]"
      ]
     },
     "execution_count": 4,
     "metadata": {},
     "output_type": "execute_result"
    }
   ],
   "source": [
    "pages[:10]"
   ]
  },
  {
   "cell_type": "markdown",
   "metadata": {},
   "source": [
    "---------------------------------------"
   ]
  },
  {
   "cell_type": "markdown",
   "metadata": {},
   "source": [
    "## Fragments"
   ]
  },
  {
   "cell_type": "code",
   "execution_count": 5,
   "metadata": {},
   "outputs": [],
   "source": [
    "def fragments(obj=list, chunk_size=int, chunk_overlap=None, debug=None):\n",
    "    \"\"\"\n",
    "    Fragmentar los documentos previamente cargados.\n",
    "\n",
    "    Args:\n",
    "        obj: Lista con objetos tipo documents. En otras palabras tiene que ser una lista con las paginas de los documentos cargados.\n",
    "        chunk_size: Tamaño de los fragmentos o numero de caracteres de los fragmentos.\n",
    "        chunk_overlap: Superposicion de los fragmentos. Se recomienda que sea entre el 10% y 15% del chunk_size. Por defecto 10%\n",
    "        debug: Booleano, si se quiere imprimir información del objeto\n",
    "\n",
    "    Returns:\n",
    "        Objeto document fragmentado.\n",
    "    \"\"\"\n",
    "\n",
    "    if chunk_overlap == None:\n",
    "        chunk_overlap = chunk_size*0.15\n",
    "\n",
    "    splitter = RecursiveCharacterTextSplitter(chunk_size=chunk_size, chunk_overlap=chunk_overlap)\n",
    "    texts = splitter.split_documents(obj)\n",
    "\n",
    "    if debug == True:\n",
    "        print(f'Los fragmentos son de tamaño: {chunk_size} y la superposicion es igual a: {chunk_overlap}')\n",
    "        print(f'El número de fragmentos total es igual a: {len(texts)}')\n",
    "\n",
    "    return texts"
   ]
  },
  {
   "cell_type": "code",
   "execution_count": 6,
   "metadata": {},
   "outputs": [
    {
     "name": "stdout",
     "output_type": "stream",
     "text": [
      "Los fragmentos son de tamaño: 500 y la superposicion es igual a: 0.1\n",
      "El número de fragmentos total es igual a: 79\n"
     ]
    }
   ],
   "source": [
    "pages = fragments(pages, 500, 0.10, debug=True)"
   ]
  },
  {
   "cell_type": "code",
   "execution_count": 7,
   "metadata": {},
   "outputs": [
    {
     "data": {
      "text/plain": [
       "[Document(page_content='DESARROLLO HISTÓRICO DE LA ESTADÍSTICA Extractado por Jorge Galbiati Riesco Las fuentes de la Estadística la constituyen los censos y recuentos, los juegos de azar, la inferencia inductiva basada en datos empíricos, y el tratamiento de los errores en las mediciones. Se sabe que Cesar Augusto decretó que todo el imperio fuera sometido al pago de impuestos, para lo cual previamente debería conducirse un censo de las personas. Mil años después, Guillermo el Conquistador ordenó que se hiciera un', metadata={'source': 'G:/Mi unidad/Universidad/Pregrado/1,2,3,4/Estadistica/HistoriaEstadistica.pdf', 'page': 0}),\n",
       " Document(page_content='registro de todos los bienes que hubieran en Inglaterra, para fines tributarios y militares, el llamado \"Domesday Book\". Una aplicación de la probab ilidad empírica a los seguros de buques se encuentra en Flandes, en el siglo XIV. La teoría a de la probabilidad es una disciplina matemática que fundamenta la Estadística como una lógica y una metodologí a para la medición y el estudio de la incertidumbre, en la planeación e interpretación de la observación y la experimentación. Los inicios de la', metadata={'source': 'G:/Mi unidad/Universidad/Pregrado/1,2,3,4/Estadistica/HistoriaEstadistica.pdf', 'page': 0}),\n",
       " Document(page_content='probabilidad, como teoría matemática, puede rastrearse en la correspondencia entre Fermat y Pascal, en la década de 1650. Pierre de Fermat, matemático francés, nació en 1601; Blaise Pascal, matemático, físico y filósofo, también francés, nació en Cler mont-Ferrand en 1623. También hay antecedentes de los orígenes de la teoría de la probabilidad en un corto artículo escrito por Christian Huygens en 1657. Fue éste un físico, geómetra y astrónomo holandés, nacido en La Haya en 1629. Previamente,', metadata={'source': 'G:/Mi unidad/Universidad/Pregrado/1,2,3,4/Estadistica/HistoriaEstadistica.pdf', 'page': 0}),\n",
       " Document(page_content='Girolamo Cardano (1501- 1576) y Galileo Galilei (1564-1642) habían he cho cálculos de prob abilidades numéricas, de diversas combinaciones de dados. Estos trabajos tempranos de Fermat, Pascal y Huygens no abordan problemas de estadística inferencial, ni van más allá de los juegos de azar, que eran sus intereses inmediatos.', metadata={'source': 'G:/Mi unidad/Universidad/Pregrado/1,2,3,4/Estadistica/HistoriaEstadistica.pdf', 'page': 0}),\n",
       " Document(page_content='Un comerciante inglés, John Graunt, publicó en 1662 un artículo titulado \"Natural and Political Observations upon the Bills of Mortality\", en el que presenta cálculos demográficos que evidencian el reciente de scubrimiento de la re gularidad de ciertas proporciones. Pasarían décadas antes que se tuviera conciencia de la existencia de variabilidad de todos los fenómenos. Por sus trabajos en demografía, que incorporan nociones de regularidad en el comportamiento de características de naturaleza', metadata={'source': 'G:/Mi unidad/Universidad/Pregrado/1,2,3,4/Estadistica/HistoriaEstadistica.pdf', 'page': 1}),\n",
       " Document(page_content='aleatoria, John Graunt es considerado por algunos, como el iniciador de la Estadística. Fue socio fundador de la Royal Society. Jacob Bernoulli, (o James, o Jacques Bernoulli), un matemático suizo nacido en 1654, es considerado el iniciador de la teoría de la probabilidad, que hasta entonces sólo se había ocupado de fenómenos experimentales con resultados equiprobables, motivados, aparte de los juegos de azar, por problemas de las ciencias sociales, intereses Financieros, seguros, meteorología', metadata={'source': 'G:/Mi unidad/Universidad/Pregrado/1,2,3,4/Estadistica/HistoriaEstadistica.pdf', 'page': 1}),\n",
       " Document(page_content='y medicina. En su obra \"Ars Conjectandi\", introduce lo que hoy se conoce como la primera ley de los grandes números . Es éste un principio fundamental, que básicamente establece que, bajo ciertas condiciones, un promedio muestral se aproxima al promedio de la población de donde se obtuvo la muestra, si el tamaño de ésta es grande. Entre los siglos XVIII y XIX, la Estadística experimentó lo que puede ser descrito como un desarrollo horizontal y vertical si multáneo. Horizontal, en el sentido que', metadata={'source': 'G:/Mi unidad/Universidad/Pregrado/1,2,3,4/Estadistica/HistoriaEstadistica.pdf', 'page': 1}),\n",
       " Document(page_content='se propagó a través de diversas disciplinas, desde la astronomía y la geodesia, la psicología, la biología, hasta las ciencias sociales, sufriend o diversas transformaciones en el proceso. Vertical, en el sentido de profundizar en el conocimiento del rol de la probabilidad, siendo desplazada la analogía de los juegos de azar, por modelos probabilísticos apropiados para efectuar medidas bajo incertidumbre. De este modo se llega a los inicios de la inferencia estadística , cuyo dominio de', metadata={'source': 'G:/Mi unidad/Universidad/Pregrado/1,2,3,4/Estadistica/HistoriaEstadistica.pdf', 'page': 1}),\n",
       " Document(page_content='aplicación se extiende gradualmente, desde fines de este período. Un matemático francés nacido en 1667, que vivía en Londres, refugiado de la persecución religiosa, Abraham De Moivre, publicó tres obras de contenidos sobre el tema de la probabilidad, entre 1718 y 1730. Contri buyó efectuando estudios sobre la ley de probabilidad binomial, y formuló una aproximación para muestras grandes, que es considerada por estadísticos de este siglo, como Karl Pearson, como la primera formulación de la ley', metadata={'source': 'G:/Mi unidad/Universidad/Pregrado/1,2,3,4/Estadistica/HistoriaEstadistica.pdf', 'page': 1}),\n",
       " Document(page_content='de probabilidad normal. Pearson encontró la publicación de De Moivre en que presentaba la ley normal. Pero el autor no había descubierto su aplicación a la', metadata={'source': 'G:/Mi unidad/Universidad/Pregrado/1,2,3,4/Estadistica/HistoriaEstadistica.pdf', 'page': 1})]"
      ]
     },
     "execution_count": 7,
     "metadata": {},
     "output_type": "execute_result"
    }
   ],
   "source": [
    "pages[:10]"
   ]
  },
  {
   "cell_type": "markdown",
   "metadata": {},
   "source": [
    "---------------------------------------"
   ]
  },
  {
   "cell_type": "markdown",
   "metadata": {},
   "source": [
    "## Create a dataframe"
   ]
  },
  {
   "cell_type": "code",
   "execution_count": 8,
   "metadata": {},
   "outputs": [
    {
     "name": "stdout",
     "output_type": "stream",
     "text": [
      "(79, 2)\n"
     ]
    },
    {
     "data": {
      "text/html": [
       "<div>\n",
       "<style scoped>\n",
       "    .dataframe tbody tr th:only-of-type {\n",
       "        vertical-align: middle;\n",
       "    }\n",
       "\n",
       "    .dataframe tbody tr th {\n",
       "        vertical-align: top;\n",
       "    }\n",
       "\n",
       "    .dataframe thead th {\n",
       "        text-align: right;\n",
       "    }\n",
       "</style>\n",
       "<table border=\"1\" class=\"dataframe\">\n",
       "  <thead>\n",
       "    <tr style=\"text-align: right;\">\n",
       "      <th></th>\n",
       "      <th>script</th>\n",
       "      <th>length_scripts</th>\n",
       "    </tr>\n",
       "  </thead>\n",
       "  <tbody>\n",
       "    <tr>\n",
       "      <th>42</th>\n",
       "      <td>aleatoria es la base de una teoría científica ...</td>\n",
       "      <td>496</td>\n",
       "    </tr>\n",
       "    <tr>\n",
       "      <th>5</th>\n",
       "      <td>aleatoria, John Graunt es considerado por algu...</td>\n",
       "      <td>498</td>\n",
       "    </tr>\n",
       "    <tr>\n",
       "      <th>38</th>\n",
       "      <td>estudio sobre una población, es</td>\n",
       "      <td>31</td>\n",
       "    </tr>\n",
       "    <tr>\n",
       "      <th>47</th>\n",
       "      <td>periodo se establecen las condiciones bajo las...</td>\n",
       "      <td>498</td>\n",
       "    </tr>\n",
       "    <tr>\n",
       "      <th>17</th>\n",
       "      <td>fue el tema dominante de los estadísticos del ...</td>\n",
       "      <td>499</td>\n",
       "    </tr>\n",
       "  </tbody>\n",
       "</table>\n",
       "</div>"
      ],
      "text/plain": [
       "                                               script  length_scripts\n",
       "42  aleatoria es la base de una teoría científica ...             496\n",
       "5   aleatoria, John Graunt es considerado por algu...             498\n",
       "38                    estudio sobre una población, es              31\n",
       "47  periodo se establecen las condiciones bajo las...             498\n",
       "17  fue el tema dominante de los estadísticos del ...             499"
      ]
     },
     "execution_count": 8,
     "metadata": {},
     "output_type": "execute_result"
    }
   ],
   "source": [
    "register = []\n",
    "for i in pages:\n",
    "    register.append(i.page_content)\n",
    "df = pd.DataFrame({'script':register})\n",
    "df['length_scripts'] = df['script'].apply(lambda x: len(x))\n",
    "print(df.shape)\n",
    "df.sample(5)"
   ]
  },
  {
   "cell_type": "markdown",
   "metadata": {},
   "source": [
    "---------------------------------------------"
   ]
  },
  {
   "cell_type": "markdown",
   "metadata": {},
   "source": [
    "## Embeddings model"
   ]
  },
  {
   "cell_type": "code",
   "execution_count": 9,
   "metadata": {},
   "outputs": [
    {
     "name": "stderr",
     "output_type": "stream",
     "text": [
      "You try to use a model that was created with version 3.0.0.dev0, however, your version is 2.7.0. This might cause unexpected behavior or errors. In that case, try to update to the latest version.\n",
      "\n",
      "\n",
      "\n"
     ]
    },
    {
     "data": {
      "text/plain": [
       "<bound method Module.get_buffer of SentenceTransformer(\n",
       "  (0): Transformer({'max_seq_length': 512, 'do_lower_case': False}) with Transformer model: MPNetModel \n",
       "  (1): Pooling({'word_embedding_dimension': 768, 'pooling_mode_cls_token': True, 'pooling_mode_mean_tokens': False, 'pooling_mode_max_tokens': False, 'pooling_mode_mean_sqrt_len_tokens': False, 'pooling_mode_weightedmean_tokens': False, 'pooling_mode_lasttoken': False, 'include_prompt': True})\n",
       ")>"
      ]
     },
     "execution_count": 9,
     "metadata": {},
     "output_type": "execute_result"
    }
   ],
   "source": [
    "model = SentenceTransformer('sentence-transformers/multi-qa-mpnet-base-dot-v1')\n",
    "model.get_buffer"
   ]
  },
  {
   "cell_type": "markdown",
   "metadata": {},
   "source": [
    "-------------------------------------------"
   ]
  },
  {
   "cell_type": "markdown",
   "metadata": {},
   "source": [
    "## Save embeddings in df"
   ]
  },
  {
   "cell_type": "code",
   "execution_count": 10,
   "metadata": {},
   "outputs": [
    {
     "data": {
      "application/vnd.jupyter.widget-view+json": {
       "model_id": "c562aae3ed11421b8b90e809046d7c48",
       "version_major": 2,
       "version_minor": 0
      },
      "text/plain": [
       "Batches:   0%|          | 0/3 [00:00<?, ?it/s]"
      ]
     },
     "metadata": {},
     "output_type": "display_data"
    }
   ],
   "source": [
    "embeddings = model.encode(df['script'], show_progress_bar=True)"
   ]
  },
  {
   "cell_type": "code",
   "execution_count": 11,
   "metadata": {},
   "outputs": [
    {
     "data": {
      "text/plain": [
       "(79, 768)"
      ]
     },
     "execution_count": 11,
     "metadata": {},
     "output_type": "execute_result"
    }
   ],
   "source": [
    "embeddings.shape"
   ]
  },
  {
   "cell_type": "code",
   "execution_count": 12,
   "metadata": {},
   "outputs": [],
   "source": [
    "df['embeddings'] = embeddings.tolist()"
   ]
  },
  {
   "cell_type": "code",
   "execution_count": 13,
   "metadata": {},
   "outputs": [
    {
     "data": {
      "text/html": [
       "<div>\n",
       "<style scoped>\n",
       "    .dataframe tbody tr th:only-of-type {\n",
       "        vertical-align: middle;\n",
       "    }\n",
       "\n",
       "    .dataframe tbody tr th {\n",
       "        vertical-align: top;\n",
       "    }\n",
       "\n",
       "    .dataframe thead th {\n",
       "        text-align: right;\n",
       "    }\n",
       "</style>\n",
       "<table border=\"1\" class=\"dataframe\">\n",
       "  <thead>\n",
       "    <tr style=\"text-align: right;\">\n",
       "      <th></th>\n",
       "      <th>script</th>\n",
       "      <th>length_scripts</th>\n",
       "      <th>embeddings</th>\n",
       "    </tr>\n",
       "  </thead>\n",
       "  <tbody>\n",
       "    <tr>\n",
       "      <th>48</th>\n",
       "      <td>o r l a E s t a d í s t i c a , p e r o trabaj...</td>\n",
       "      <td>492</td>\n",
       "      <td>[-0.36984357237815857, -0.1156497672200203, -0...</td>\n",
       "    </tr>\n",
       "    <tr>\n",
       "      <th>74</th>\n",
       "      <td>estadísticos se vuelven más complejos. Los mét...</td>\n",
       "      <td>500</td>\n",
       "      <td>[-0.6187661290168762, 0.05496549606323242, -0....</td>\n",
       "    </tr>\n",
       "    <tr>\n",
       "      <th>77</th>\n",
       "      <td>Mundo de las Matemáticas\", ed. Grjaldo S.A., 1...</td>\n",
       "      <td>50</td>\n",
       "      <td>[-0.14384321868419647, 0.021477237343788147, -...</td>\n",
       "    </tr>\n",
       "    <tr>\n",
       "      <th>16</th>\n",
       "      <td>En 1805, el matemático francés Adrien Marie Le...</td>\n",
       "      <td>498</td>\n",
       "      <td>[-0.43346428871154785, 0.1469012200832367, -0....</td>\n",
       "    </tr>\n",
       "    <tr>\n",
       "      <th>53</th>\n",
       "      <td>superficies de respuesta, un procedimiento fin...</td>\n",
       "      <td>497</td>\n",
       "      <td>[-0.20427772402763367, -0.128569558262825, -0....</td>\n",
       "    </tr>\n",
       "    <tr>\n",
       "      <th>22</th>\n",
       "      <td>fenómenos pueden ser representados probab ilís...</td>\n",
       "      <td>491</td>\n",
       "      <td>[-0.3293474316596985, -0.09594462066888809, -0...</td>\n",
       "    </tr>\n",
       "    <tr>\n",
       "      <th>3</th>\n",
       "      <td>Girolamo Cardano (1501- 1576) y Galileo Galile...</td>\n",
       "      <td>324</td>\n",
       "      <td>[-0.23017717897891998, 0.28068116307258606, -0...</td>\n",
       "    </tr>\n",
       "    <tr>\n",
       "      <th>76</th>\n",
       "      <td>Bibliografía T.W. Anderson: \"An introduction t...</td>\n",
       "      <td>497</td>\n",
       "      <td>[-0.26468056440353394, 0.05537289381027222, -0...</td>\n",
       "    </tr>\n",
       "    <tr>\n",
       "      <th>62</th>\n",
       "      <td>distribución pertenece a alguna familia, cuya ...</td>\n",
       "      <td>498</td>\n",
       "      <td>[-0.5775436758995056, 0.2799033522605896, -0.1...</td>\n",
       "    </tr>\n",
       "    <tr>\n",
       "      <th>27</th>\n",
       "      <td>A partir de 1880, tres hombres, Francis Galton...</td>\n",
       "      <td>495</td>\n",
       "      <td>[-0.1696656346321106, 0.3837101459503174, -0.2...</td>\n",
       "    </tr>\n",
       "  </tbody>\n",
       "</table>\n",
       "</div>"
      ],
      "text/plain": [
       "                                               script  length_scripts  \\\n",
       "48  o r l a E s t a d í s t i c a , p e r o trabaj...             492   \n",
       "74  estadísticos se vuelven más complejos. Los mét...             500   \n",
       "77  Mundo de las Matemáticas\", ed. Grjaldo S.A., 1...              50   \n",
       "16  En 1805, el matemático francés Adrien Marie Le...             498   \n",
       "53  superficies de respuesta, un procedimiento fin...             497   \n",
       "22  fenómenos pueden ser representados probab ilís...             491   \n",
       "3   Girolamo Cardano (1501- 1576) y Galileo Galile...             324   \n",
       "76  Bibliografía T.W. Anderson: \"An introduction t...             497   \n",
       "62  distribución pertenece a alguna familia, cuya ...             498   \n",
       "27  A partir de 1880, tres hombres, Francis Galton...             495   \n",
       "\n",
       "                                           embeddings  \n",
       "48  [-0.36984357237815857, -0.1156497672200203, -0...  \n",
       "74  [-0.6187661290168762, 0.05496549606323242, -0....  \n",
       "77  [-0.14384321868419647, 0.021477237343788147, -...  \n",
       "16  [-0.43346428871154785, 0.1469012200832367, -0....  \n",
       "53  [-0.20427772402763367, -0.128569558262825, -0....  \n",
       "22  [-0.3293474316596985, -0.09594462066888809, -0...  \n",
       "3   [-0.23017717897891998, 0.28068116307258606, -0...  \n",
       "76  [-0.26468056440353394, 0.05537289381027222, -0...  \n",
       "62  [-0.5775436758995056, 0.2799033522605896, -0.1...  \n",
       "27  [-0.1696656346321106, 0.3837101459503174, -0.2...  "
      ]
     },
     "execution_count": 13,
     "metadata": {},
     "output_type": "execute_result"
    }
   ],
   "source": [
    "df.sample(10)"
   ]
  },
  {
   "cell_type": "markdown",
   "metadata": {},
   "source": [
    "--------------------------------------"
   ]
  },
  {
   "cell_type": "markdown",
   "metadata": {},
   "source": [
    "## Searching"
   ]
  },
  {
   "cell_type": "code",
   "execution_count": null,
   "metadata": {},
   "outputs": [],
   "source": [
    "def search_similarity(query=str, dataframe=pd.DataFrame, num_return=None):\n",
    "    \"\"\"Función para realizar busquedas de coincidencia entre una frase o palabra en un dataframe en donde se encuentran frases con su \n",
    "    respectiva representación vectorial\n",
    "    \n",
    "    Arg:\n",
    "        query: Frase o palabra que se quiere buscar\n",
    "        dataframe: Dataframe en donde se encuentran las frases junto con su representación vectorial\n",
    "        num_return: Numero de frases similares que se quieren retornar\n",
    "\n",
    "    Returns:\n",
    "        Lista con las frases que mas coinciden con la frase o palabra ingresada\n",
    "    \"\"\"\n",
    "\n",
    "    if num_return == None:\n",
    "        num_return = 3\n",
    "\n",
    "    query_embedding = model.encode([query])\n",
    "    dataframe['similarity'] = dataframe.embeddings.apply(lambda x : util.cos_sim(x,query_embedding[0]))\n",
    "    dataframe = dataframe.sort_values('similarity',ascending=False).head(num_return)\n",
    "\n",
    "    print(dataframe['script'])"
   ]
  },
  {
   "cell_type": "code",
   "execution_count": 14,
   "metadata": {},
   "outputs": [],
   "source": [
    "query_embedding = model.encode(['Estadística Bayesiana'])\n",
    "\n",
    "df['similarity'] = df.embeddings.apply(lambda x : util.cos_sim(x,query_embedding[0]))"
   ]
  },
  {
   "cell_type": "code",
   "execution_count": 15,
   "metadata": {},
   "outputs": [
    {
     "data": {
      "text/html": [
       "<div>\n",
       "<style scoped>\n",
       "    .dataframe tbody tr th:only-of-type {\n",
       "        vertical-align: middle;\n",
       "    }\n",
       "\n",
       "    .dataframe tbody tr th {\n",
       "        vertical-align: top;\n",
       "    }\n",
       "\n",
       "    .dataframe thead th {\n",
       "        text-align: right;\n",
       "    }\n",
       "</style>\n",
       "<table border=\"1\" class=\"dataframe\">\n",
       "  <thead>\n",
       "    <tr style=\"text-align: right;\">\n",
       "      <th></th>\n",
       "      <th>script</th>\n",
       "      <th>length_scripts</th>\n",
       "      <th>embeddings</th>\n",
       "      <th>similarity</th>\n",
       "    </tr>\n",
       "  </thead>\n",
       "  <tbody>\n",
       "    <tr>\n",
       "      <th>36</th>\n",
       "      <td>una de sus aplicaciones es el probar el ajuste...</td>\n",
       "      <td>499</td>\n",
       "      <td>[-0.2803966999053955, -0.2062561959028244, -0....</td>\n",
       "      <td>[[tensor(0.4738)]]</td>\n",
       "    </tr>\n",
       "    <tr>\n",
       "      <th>30</th>\n",
       "      <td>forma conjunta . Esta ya había sido conocida p...</td>\n",
       "      <td>493</td>\n",
       "      <td>[-0.5089791417121887, -0.010379701852798462, -...</td>\n",
       "      <td>[[tensor(0.5014)]]</td>\n",
       "    </tr>\n",
       "    <tr>\n",
       "      <th>46</th>\n",
       "      <td>muestreo estratificado , que asume que existen...</td>\n",
       "      <td>494</td>\n",
       "      <td>[-0.44724780321121216, 0.04111926257610321, -0...</td>\n",
       "      <td>[[tensor(0.3790)]]</td>\n",
       "    </tr>\n",
       "    <tr>\n",
       "      <th>73</th>\n",
       "      <td>los medios existentes hasta entonces. Las difi...</td>\n",
       "      <td>117</td>\n",
       "      <td>[-0.3203105330467224, 0.028431817889213562, -0...</td>\n",
       "      <td>[[tensor(0.4439)]]</td>\n",
       "    </tr>\n",
       "    <tr>\n",
       "      <th>6</th>\n",
       "      <td>y medicina. En su obra \"Ars Conjectandi\", intr...</td>\n",
       "      <td>499</td>\n",
       "      <td>[-0.3316954970359802, -0.33490312099456787, -0...</td>\n",
       "      <td>[[tensor(0.3358)]]</td>\n",
       "    </tr>\n",
       "  </tbody>\n",
       "</table>\n",
       "</div>"
      ],
      "text/plain": [
       "                                               script  length_scripts  \\\n",
       "36  una de sus aplicaciones es el probar el ajuste...             499   \n",
       "30  forma conjunta . Esta ya había sido conocida p...             493   \n",
       "46  muestreo estratificado , que asume que existen...             494   \n",
       "73  los medios existentes hasta entonces. Las difi...             117   \n",
       "6   y medicina. En su obra \"Ars Conjectandi\", intr...             499   \n",
       "\n",
       "                                           embeddings          similarity  \n",
       "36  [-0.2803966999053955, -0.2062561959028244, -0....  [[tensor(0.4738)]]  \n",
       "30  [-0.5089791417121887, -0.010379701852798462, -...  [[tensor(0.5014)]]  \n",
       "46  [-0.44724780321121216, 0.04111926257610321, -0...  [[tensor(0.3790)]]  \n",
       "73  [-0.3203105330467224, 0.028431817889213562, -0...  [[tensor(0.4439)]]  \n",
       "6   [-0.3316954970359802, -0.33490312099456787, -0...  [[tensor(0.3358)]]  "
      ]
     },
     "execution_count": 15,
     "metadata": {},
     "output_type": "execute_result"
    }
   ],
   "source": [
    "df.sample(5)"
   ]
  },
  {
   "cell_type": "code",
   "execution_count": 17,
   "metadata": {},
   "outputs": [],
   "source": [
    "df = df.sort_values('similarity',ascending=False).head(5)"
   ]
  },
  {
   "cell_type": "code",
   "execution_count": 24,
   "metadata": {},
   "outputs": [
    {
     "name": "stdout",
     "output_type": "stream",
     "text": [
      "11    temprano de la Estadística. Irónicamente, sus ...\n",
      "14    Causas de Eventos\", de 1774, y \"Memoria sobre ...\n",
      "66    diseño y análisis de encuestas y tests. Abraha...\n",
      "67    característica de los Estados Unidos, define l...\n",
      "39    a n t i g u a . E n e s t a i d e a s e f u n ...\n",
      "Name: script, dtype: object\n"
     ]
    }
   ],
   "source": [
    "print(df['script'])"
   ]
  }
 ],
 "metadata": {
  "kernelspec": {
   "display_name": "embeddings_env",
   "language": "python",
   "name": "python3"
  },
  "language_info": {
   "codemirror_mode": {
    "name": "ipython",
    "version": 3
   },
   "file_extension": ".py",
   "mimetype": "text/x-python",
   "name": "python",
   "nbconvert_exporter": "python",
   "pygments_lexer": "ipython3",
   "version": "3.12.3"
  }
 },
 "nbformat": 4,
 "nbformat_minor": 2
}
